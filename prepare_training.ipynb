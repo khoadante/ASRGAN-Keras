{
 "cells": [
  {
   "cell_type": "code",
   "execution_count": null,
   "metadata": {},
   "outputs": [],
   "source": [
    "!nvidia-smi"
   ]
  },
  {
   "cell_type": "code",
   "execution_count": null,
   "metadata": {},
   "outputs": [],
   "source": [
    "!git clone https://github.com/khoadante/ASRGAN.git\n",
    "!cd ASRGAN/"
   ]
  },
  {
   "cell_type": "code",
   "execution_count": null,
   "metadata": {},
   "outputs": [],
   "source": [
    "!wget -N http://data.vision.ee.ethz.ch/cvl/DIV2K/DIV2K_train_HR.zip\n",
    "\n",
    "import zipfile\n",
    "with zipfile.ZipFile('./DIV2K_train_HR.zip', 'r') as zip_ref:\n",
    "    zip_ref.extractall('./')"
   ]
  }
 ],
 "metadata": {
  "interpreter": {
   "hash": "fcd8f4151858495978d563a1180e22ca9796714efe5ba17959aaeac20906768e"
  },
  "kernelspec": {
   "display_name": "Python 3.9.12 ('tensordock')",
   "language": "python",
   "name": "python3"
  },
  "language_info": {
   "name": "python",
   "version": "3.9.12"
  },
  "orig_nbformat": 4
 },
 "nbformat": 4,
 "nbformat_minor": 2
}
