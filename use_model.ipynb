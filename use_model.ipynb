{
 "cells": [
  {
   "cell_type": "code",
   "execution_count": null,
   "metadata": {},
   "outputs": [],
   "source": [
    "BATCH_SIZE = 4\n",
    "USE_EMA_MODEL = False"
   ]
  },
  {
   "cell_type": "code",
   "execution_count": null,
   "metadata": {},
   "outputs": [],
   "source": [
    "import os\n",
    "import tensorflow as tf\n",
    "from glob import glob\n",
    "\n",
    "from utils.data import load_test_img"
   ]
  },
  {
   "cell_type": "code",
   "execution_count": null,
   "metadata": {},
   "outputs": [],
   "source": [
    "if USE_EMA_MODEL:\n",
    "    model = tf.keras.models.load_model('models/ema_gan_model')\n",
    "else:\n",
    "    model = tf.keras.models.load_model('models/gan_model')"
   ]
  },
  {
   "cell_type": "code",
   "execution_count": null,
   "metadata": {},
   "outputs": [],
   "source": [
    "data_path = os.path.abspath(\"./data/user_images/*.png\")\n",
    "test_images_paths = sorted(glob(data_path))\n",
    "\n",
    "test_dataset = tf.data.Dataset.from_tensor_slices((test_images_paths))\n",
    "test_dataset = test_dataset.shuffle(len(test_images_paths))\n",
    "test_dataset = test_dataset.map(load_test_img, num_parallel_calls=tf.data.experimental.AUTOTUNE)\n",
    "\n",
    "test_generator = test_dataset.batch(BATCH_SIZE)\n",
    "\n",
    "for img in test_generator:\n",
    "    output = model(img)\n",
    "\n",
    "    for index, o_img in enumerate(output):\n",
    "        tf.keras.utils.save_img(f\"data/final_images/image{index}.png\", o_img)"
   ]
  }
 ],
 "metadata": {
  "interpreter": {
   "hash": "fcd8f4151858495978d563a1180e22ca9796714efe5ba17959aaeac20906768e"
  },
  "kernelspec": {
   "display_name": "Python 3.9.12 ('tensordock')",
   "language": "python",
   "name": "python3"
  },
  "language_info": {
   "name": "python",
   "version": "3.9.12"
  },
  "orig_nbformat": 4
 },
 "nbformat": 4,
 "nbformat_minor": 2
}
